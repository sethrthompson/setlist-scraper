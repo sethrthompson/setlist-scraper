{
 "cells": [
  {
   "cell_type": "markdown",
   "metadata": {},
   "source": [
    "## Pearl Jam Setlist Webscraper"
   ]
  },
  {
   "cell_type": "code",
   "execution_count": null,
   "metadata": {},
   "outputs": [],
   "source": [
    "########################################\n",
    "#Program: Setlist_Scraper.py\n",
    "#Author: Seth Thompson\n",
    "#Date: 9/17/2019\n",
    "#Description: Gathers data from all PJ\n",
    "#             setlists\n",
    "########################################\n",
    "#***************************************\n",
    "#           DISCLAIMER!!!\n",
    "# This program is not intended for any \n",
    "# commercial use and shall NOT be used\n",
    "# for any monetary gain or commercial\n",
    "# reasons. This is merely an exercise \n",
    "# in web scraping and the data is \n",
    "# intended for personal use only.\n",
    "#***************************************"
   ]
  },
  {
   "cell_type": "code",
   "execution_count": 2,
   "metadata": {},
   "outputs": [],
   "source": [
    "## Import statements\n",
    "import numpy as np\n",
    "import pandas as pd\n",
    "import urllib.request\n",
    "import requests\n",
    "import time\n",
    "from bs4 import BeautifulSoup"
   ]
  },
  {
   "cell_type": "code",
   "execution_count": 3,
   "metadata": {},
   "outputs": [],
   "source": [
    "## link is a base url that will be used to loop though all shows\n",
    "link = 'http://www.livefootsteps.org/setlist/?show_id='"
   ]
  },
  {
   "cell_type": "code",
   "execution_count": 5,
   "metadata": {
    "scrolled": false
   },
   "outputs": [],
   "source": [
    "## Empty list to hold records \n",
    "## date, location, venue, setlist[] will be stored\n",
    "records = []\n",
    "num_shows = 1037\n",
    "\n",
    "for i in range(1, (num_shows + 1)):\n",
    "    url = link + str(i)\n",
    "    response = requests.get(url)\n",
    "    soup = BeautifulSoup(response.text, 'html.parser')\n",
    "    \n",
    "    results = soup.findAll('h6')\n",
    "    date = soup.find('h1').get_text().strip()\n",
    "    location = soup.find('h3',style=\"margin-left:20px;color:#959595;\").get_text()\n",
    "    venue = soup.find('h3',style=\"margin-bottom:1px;\").get_text()\n",
    "    setlist=[]\n",
    "    #print(i) ##Simply used to see what iteration is currently being processed\n",
    "    \n",
    "    for j in range(1,len(results)-1):\n",
    "        if (results[j].get_text() != 'LIVE DEBUT'): ## Discard this information \n",
    "            setlist.append(results[j].get_text())\n",
    "    \n",
    "    if (len(setlist) > 0):\n",
    "        setlist.append(setlist)\n",
    "    else:\n",
    "        setlist.append('No setlist information available...') ## Some setlist info not available\n",
    "    \n",
    "    records.append((date, location, venue, setlist)) ## append a tuple to records\n",
    "    time.sleep(1) ## Delay as to not overwhelm website\n"
   ]
  },
  {
   "cell_type": "code",
   "execution_count": 6,
   "metadata": {},
   "outputs": [],
   "source": [
    "## pandas dataframe to store all records in a neat format\n",
    "df = pd.DataFrame(records, columns=['date', 'location', 'venue', 'setlist'])\n",
    "df.index = np.arange(1, len(df)+1)"
   ]
  },
  {
   "cell_type": "code",
   "execution_count": 7,
   "metadata": {},
   "outputs": [
    {
     "data": {
      "text/html": [
       "<div>\n",
       "<style scoped>\n",
       "    .dataframe tbody tr th:only-of-type {\n",
       "        vertical-align: middle;\n",
       "    }\n",
       "\n",
       "    .dataframe tbody tr th {\n",
       "        vertical-align: top;\n",
       "    }\n",
       "\n",
       "    .dataframe thead th {\n",
       "        text-align: right;\n",
       "    }\n",
       "</style>\n",
       "<table border=\"1\" class=\"dataframe\">\n",
       "  <thead>\n",
       "    <tr style=\"text-align: right;\">\n",
       "      <th></th>\n",
       "      <th>date</th>\n",
       "      <th>location</th>\n",
       "      <th>venue</th>\n",
       "      <th>setlist</th>\n",
       "    </tr>\n",
       "  </thead>\n",
       "  <tbody>\n",
       "    <tr>\n",
       "      <th>1</th>\n",
       "      <td>October 22, 1990</td>\n",
       "      <td>Seattle, WA</td>\n",
       "      <td>Off Ramp Café</td>\n",
       "      <td>[Release, Alone, Alive, Once, Even Flow, Black...</td>\n",
       "    </tr>\n",
       "  </tbody>\n",
       "</table>\n",
       "</div>"
      ],
      "text/plain": [
       "               date      location          venue  \\\n",
       "1  October 22, 1990   Seattle, WA  Off Ramp Café   \n",
       "\n",
       "                                             setlist  \n",
       "1  [Release, Alone, Alive, Once, Even Flow, Black...  "
      ]
     },
     "execution_count": 7,
     "metadata": {},
     "output_type": "execute_result"
    }
   ],
   "source": [
    "df.head()"
   ]
  },
  {
   "cell_type": "code",
   "execution_count": 99,
   "metadata": {},
   "outputs": [
    {
     "data": {
      "text/html": [
       "<div>\n",
       "<style scoped>\n",
       "    .dataframe tbody tr th:only-of-type {\n",
       "        vertical-align: middle;\n",
       "    }\n",
       "\n",
       "    .dataframe tbody tr th {\n",
       "        vertical-align: top;\n",
       "    }\n",
       "\n",
       "    .dataframe thead th {\n",
       "        text-align: right;\n",
       "    }\n",
       "</style>\n",
       "<table border=\"1\" class=\"dataframe\">\n",
       "  <thead>\n",
       "    <tr style=\"text-align: right;\">\n",
       "      <th></th>\n",
       "      <th>date</th>\n",
       "      <th>location</th>\n",
       "      <th>venue</th>\n",
       "      <th>setlist</th>\n",
       "    </tr>\n",
       "  </thead>\n",
       "  <tbody>\n",
       "    <tr>\n",
       "      <th>1033</th>\n",
       "      <td>August 13, 2018</td>\n",
       "      <td>Missoula, MT</td>\n",
       "      <td>Washington-Grizzly Stadium</td>\n",
       "      <td>[Pendulum, Low Light, Go, Do The Evolution, Ar...</td>\n",
       "    </tr>\n",
       "    <tr>\n",
       "      <th>1034</th>\n",
       "      <td>August 18, 2018</td>\n",
       "      <td>Chicago, IL</td>\n",
       "      <td>Wrigley Field</td>\n",
       "      <td>[Wash, Low Light, Elderly Woman Behind The Cou...</td>\n",
       "    </tr>\n",
       "    <tr>\n",
       "      <th>1035</th>\n",
       "      <td>August 20, 2018</td>\n",
       "      <td>Chicago, IL</td>\n",
       "      <td>Wrigley Field</td>\n",
       "      <td>[Given To Fly, Why Go, Go, Last Exit, Mind You...</td>\n",
       "    </tr>\n",
       "    <tr>\n",
       "      <th>1036</th>\n",
       "      <td>September 2, 2018</td>\n",
       "      <td>Boston, MA</td>\n",
       "      <td>Fenway Park</td>\n",
       "      <td>[Sometimes, Release, Low Light, Elderly Woman ...</td>\n",
       "    </tr>\n",
       "    <tr>\n",
       "      <th>1037</th>\n",
       "      <td>September 4, 2018</td>\n",
       "      <td>Boston, MA</td>\n",
       "      <td>Fenway Park</td>\n",
       "      <td>[Given To Fly, Animal, Save You, Arms Aloft, L...</td>\n",
       "    </tr>\n",
       "  </tbody>\n",
       "</table>\n",
       "</div>"
      ],
      "text/plain": [
       "                   date       location                       venue  \\\n",
       "1033    August 13, 2018   Missoula, MT  Washington-Grizzly Stadium   \n",
       "1034    August 18, 2018    Chicago, IL               Wrigley Field   \n",
       "1035    August 20, 2018    Chicago, IL               Wrigley Field   \n",
       "1036  September 2, 2018     Boston, MA                 Fenway Park   \n",
       "1037  September 4, 2018     Boston, MA                 Fenway Park   \n",
       "\n",
       "                                                setlist  \n",
       "1033  [Pendulum, Low Light, Go, Do The Evolution, Ar...  \n",
       "1034  [Wash, Low Light, Elderly Woman Behind The Cou...  \n",
       "1035  [Given To Fly, Why Go, Go, Last Exit, Mind You...  \n",
       "1036  [Sometimes, Release, Low Light, Elderly Woman ...  \n",
       "1037  [Given To Fly, Animal, Save You, Arms Aloft, L...  "
      ]
     },
     "execution_count": 99,
     "metadata": {},
     "output_type": "execute_result"
    }
   ],
   "source": [
    "df.tail()"
   ]
  },
  {
   "cell_type": "code",
   "execution_count": 100,
   "metadata": {},
   "outputs": [],
   "source": [
    "## Store in a csv to be used for later processing\n",
    "df.to_csv('PJ_Setlists.csv', index = True, index_label='Show #', encoding='utf-8')"
   ]
  },
  {
   "cell_type": "code",
   "execution_count": null,
   "metadata": {},
   "outputs": [],
   "source": []
  }
 ],
 "metadata": {
  "kernelspec": {
   "display_name": "Python 3",
   "language": "python",
   "name": "python3"
  },
  "language_info": {
   "codemirror_mode": {
    "name": "ipython",
    "version": 3
   },
   "file_extension": ".py",
   "mimetype": "text/x-python",
   "name": "python",
   "nbconvert_exporter": "python",
   "pygments_lexer": "ipython3",
   "version": "3.6.5"
  }
 },
 "nbformat": 4,
 "nbformat_minor": 2
}
